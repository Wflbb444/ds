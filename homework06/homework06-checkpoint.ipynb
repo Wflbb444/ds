{
 "cells": [
  {
   "cell_type": "markdown",
   "id": "a5060d50",
   "metadata": {},
   "source": [
    "1.使用numpy生成服从标准正态分布的100个样本"
   ]
  },
  {
   "cell_type": "code",
   "execution_count": 14,
   "id": "5f81f023",
   "metadata": {
    "scrolled": true
   },
   "outputs": [
    {
     "data": {
      "image/png": "[encoded data removed]",
      "text/plain": [
       "<Figure size 640x480 with 1 Axes>"
      ]
     },
     "metadata": {},
     "output_type": "display_data"
    }
   ],
   "source": [
    "import numpy as np\n",
    "import matplotlib.pyplot as plt\n",
    "e,v=0,1\n",
    "s=np.random.normal(e,v,100)\n",
    "plt.hist(s,bins=10)\n",
    "plt.show()"
   ]
  },
  {
   "cell_type": "markdown",
   "id": "c691f523",
   "metadata": {},
   "source": [
    "\n",
    "3.求特征值和特征向量"
   ]
  },
  {
   "cell_type": "code",
   "execution_count": 12,
   "id": "205bf2de",
   "metadata": {},
   "outputs": [
    {
     "name": "stdout",
     "output_type": "stream",
     "text": [
      "特征值：\n",
      " [1. 6.]\n",
      "特征向量：\n",
      " [[-0.70710678 -0.24253563]\n",
      " [ 0.70710678 -0.9701425 ]]\n"
     ]
    }
   ],
   "source": [
    "import numpy as np\n",
    "B=[[2,1],[4,5]]\n",
    "A=np.array(B)\n",
    "eig_val,eig_vex=np.linalg.eig(A)\n",
    "print(\"特征值：\\n\",eig_val)\n",
    "print(\"特征向量：\\n\",eig_vex)"
   ]
  },
  {
   "cell_type": "markdown",
   "id": "7741e4b0",
   "metadata": {},
   "source": [
    "\n",
    "3.幂迭代算法算最大特征值"
   ]
  },
  {
   "cell_type": "code",
   "execution_count": 19,
   "id": "99734642",
   "metadata": {},
   "outputs": [
    {
     "name": "stdout",
     "output_type": "stream",
     "text": [
      "最大特征值： 6.0000001860544385\n"
     ]
    }
   ],
   "source": [
    "B=[[2,1],[4,5]]\n",
    "A=np.array(B)\n",
    "r=np.array([1.0,1.0])\n",
    "eps=1e-6\n",
    "iterations=1000\n",
    "for i in range(iterations):\n",
    "    y=np.dot(A,r)\n",
    "    max=np.max(np.abs(y))\n",
    "    r=y/max\n",
    "    v=max\n",
    "    if np.linalg.norm(np.dot(A,r)-v*r)<eps:\n",
    "        break\n",
    "print(\"最大特征值：\",v)"
   ]
  },
  {
   "cell_type": "markdown",
   "id": "bbb624d8",
   "metadata": {},
   "source": [
    "\n",
    "4.计算协方差矩阵"
   ]
  },
  {
   "cell_type": "code",
   "execution_count": 23,
   "id": "729250c5",
   "metadata": {},
   "outputs": [
    {
     "name": "stdout",
     "output_type": "stream",
     "text": [
      "协方差矩阵：\n",
      "[[ 0.33333333  0.          0.5       ]\n",
      " [ 0.          4.         -5.        ]\n",
      " [ 0.5        -5.          7.        ]]\n"
     ]
    }
   ],
   "source": [
    "import numpy as np\n",
    "\n",
    "data=np.array([[1,-1,4],[2,1,3],[1,3,-1]])\n",
    "#其中rowvar是布尔类型。默认为true是将行作为独立的变量、如果是flase的话，则将列作为独立的变量。\n",
    "covariance_matrix=np.cov(data,rowvar=False)\n",
    "print(\"协方差矩阵：\")\n",
    "print(covariance_matrix)"
   ]
  },
  {
   "cell_type": "markdown",
   "id": "b6b750e4",
   "metadata": {},
   "source": [
    "5.幂迭代法计算全部特征值和特征向量"
   ]
  },
  {
   "cell_type": "code",
   "execution_count": 24,
   "id": "cda932f6",
   "metadata": {},
   "outputs": [
    {
     "name": "stdout",
     "output_type": "stream",
     "text": [
      "特征值：\n",
      "10.735635441912354\n",
      "10.735635441915173\n",
      "10.735635441915184\n",
      "特征向量：\n",
      "[ 0.03856614 -0.59560282  0.80235275]\n",
      "[ 0.03856612 -0.59560285  0.80235273]\n",
      "[ 0.03856611 -0.59560285  0.80235273]\n"
     ]
    }
   ],
   "source": [
    "import numpy as np\n",
    "x=np.random.rand(covariance_matrix.shape[0])\n",
    "data=np.array([[1,-1,4],[2,1,3],[1,3,-1]])\n",
    "eps=1e-6\n",
    "iterations=1000\n",
    "\n",
    "n=data.shape[0]\n",
    "values=[]\n",
    "vectors=[]\n",
    "\n",
    "for i in range(n):\n",
    "    for j in range(iterations):\n",
    "        y=np.dot(covariance_matrix,x)\n",
    "        value=np.linalg.norm(y)\n",
    "        x=y/value\n",
    "        if np.linalg.norm(np.dot(covariance_matrix,x)-value*x)<eps:\n",
    "            break\n",
    "    values.append(value)\n",
    "    vectors.append(x)\n",
    "    \n",
    "print(\"特征值：\")\n",
    "for i in values:\n",
    "    print(i)\n",
    "print(\"特征向量：\")\n",
    "for j in vectors:\n",
    "    print(j)"
   ]
  },
  {
   "cell_type": "code",
   "execution_count": null,
   "id": "ee564a45",
   "metadata": {},
   "outputs": [],
   "source": []
  }
 ],
 "metadata": {
  "kernelspec": {
   "display_name": "Python 3 (ipykernel)",
   "language": "python",
   "name": "python3"
  },
  "language_info": {
   "codemirror_mode": {
    "name": "ipython",
    "version": 3
   },
   "file_extension": ".py",
   "mimetype": "text/x-python",
   "name": "python",
   "nbconvert_exporter": "python",
   "pygments_lexer": "ipython3",
   "version": "3.11.5"
  }
 },
 "nbformat": 4,
 "nbformat_minor": 5
}
